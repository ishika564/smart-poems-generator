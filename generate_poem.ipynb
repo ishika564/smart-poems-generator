# !pip install langchain-google-genai google-generativeai huggingface_hub langchain_huggingface

import os
os.environ["HUGGINGFACEHUB_ACCESS_TOKEN"] = "hf_xxx"

# import os
# os.environ["HUGGINGFACEHUB_ACCESS_TOKEN"] = "hf_xxx"
# os.environ["HUGGINGFACEHUB_API_TOKEN"] = os.environ["HUGGINGFACEHUB_ACCESS_TOKEN"]

from langchain_huggingface import HuggingFaceEndpoint, ChatHuggingFace
from langchain.prompts import PromptTemplate
from langchain_core.output_parsers import StrOutputParser

llm=HuggingFaceEndpoint(
    repo_id="moonshotai/Kimi-K2-Instruct-0905",
    task="text-generation",
    temperature=0.8
)

model=ChatHuggingFace(llm=llm)

prompt = PromptTemplate(
    template=(
        "You are a skilled and creative poem generator.\n"
        "You must write a **beautiful, rhyming poem** based on the given details.\n\n"
        "Requirements:\n"
        "- Use the provided topic and style.\n"
        "- Include emotions, moments, rhyming words, and phrases naturally.\n"
        "- Refer to descriptions for inspiration.\n"
        "- Output must be structured as a **poem with 3–5 stanzas, each stanza 3–4 lines long**.\n"
        "- Keep it natural and human written. \n"
        "- Ensure rhyme, flow, and creativity.\n\n"
        "Input Details:\n"
        "Topic: {topic}\n"
        "Style: {style}\n"
        "Emotions: {emotions}\n"
        "Emotions Description: {emotion_desc}\n"
        "Moments: {moments}\n"
        "Moments Description: {moments_desc}\n"
        "Rhyming Words: {rhyming_words}\n"
        "Phrases: {phrases}\n"
        "Phrases Description: {phrases_desc}\n\n"
        "Now generate the poem:\n"
    ),
    input_variables=[
        "topic", "style", "emotions", "emotion_desc", "moments",
        "moments_desc", "rhyming_words", "phrases", "phrases_desc"
    ]
)

parser=StrOutputParser()

chain=prompt | model | parser

result=chain.invoke({
    'topic': 'love',
    'style': 'romantic',
    'emotions': "happy, mesmerising, kiss, cute, shy",
    'emotion_desc': 'kiss under a tree',
    'moments': 'hug',
    'moments_desc': 'long and tight hug',
    'rhyming_words': 'bliss, miss, kiss, this',
    'phrases': 'forever and always, heart to heart',
    'phrases_desc': 'phrases describing eternal love'
})

print(result)
